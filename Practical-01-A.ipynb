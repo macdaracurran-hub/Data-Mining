{
 "cells": [
  {
   "cell_type": "code",
   "execution_count": 1,
   "metadata": {},
   "outputs": [],
   "source": [
    "#pip install numpy==1.23.5\n",
    "# Later versions of numpy caused errors with sklearn"
   ]
  },
  {
   "cell_type": "code",
   "execution_count": 2,
   "metadata": {},
   "outputs": [],
   "source": [
    "import os\n",
    "import pandas as pd\n",
    "import numpy as np\n",
    "import sys\n",
    "from sklearn import svm, datasets\n",
    "from sklearn.model_selection import train_test_split\n",
    "from sklearn.metrics import mean_squared_error\n",
    "import seaborn as sns\n",
    "import matplotlib\n",
    "import matplotlib.pyplot as plt\n",
    "import scipy as sp\n",
    "import tensorflow as tf\n",
    "import warnings\n"
   ]
  },
  {
   "cell_type": "markdown",
   "metadata": {},
   "source": [
    " Descriptive statistics"
   ]
  },
  {
   "cell_type": "code",
   "execution_count": 3,
   "metadata": {},
   "outputs": [
    {
     "data": {
      "text/html": [
       "<div>\n",
       "<style scoped>\n",
       "    .dataframe tbody tr th:only-of-type {\n",
       "        vertical-align: middle;\n",
       "    }\n",
       "\n",
       "    .dataframe tbody tr th {\n",
       "        vertical-align: top;\n",
       "    }\n",
       "\n",
       "    .dataframe thead th {\n",
       "        text-align: right;\n",
       "    }\n",
       "</style>\n",
       "<table border=\"1\" class=\"dataframe\">\n",
       "  <thead>\n",
       "    <tr style=\"text-align: right;\">\n",
       "      <th></th>\n",
       "      <th>Pregnancies</th>\n",
       "      <th>Glucose</th>\n",
       "      <th>BloodPressure</th>\n",
       "      <th>SkinThickness</th>\n",
       "      <th>Insulin</th>\n",
       "      <th>BMI</th>\n",
       "      <th>DiabetesPedigreeFunction</th>\n",
       "      <th>Age</th>\n",
       "      <th>Outcome</th>\n",
       "    </tr>\n",
       "  </thead>\n",
       "  <tbody>\n",
       "    <tr>\n",
       "      <th>0</th>\n",
       "      <td>6</td>\n",
       "      <td>148</td>\n",
       "      <td>72.0</td>\n",
       "      <td>35</td>\n",
       "      <td>0</td>\n",
       "      <td>33.6</td>\n",
       "      <td>0.627</td>\n",
       "      <td>50</td>\n",
       "      <td>1</td>\n",
       "    </tr>\n",
       "    <tr>\n",
       "      <th>1</th>\n",
       "      <td>1</td>\n",
       "      <td>85</td>\n",
       "      <td>66.0</td>\n",
       "      <td>29</td>\n",
       "      <td>0</td>\n",
       "      <td>26.6</td>\n",
       "      <td>0.351</td>\n",
       "      <td>31</td>\n",
       "      <td>0</td>\n",
       "    </tr>\n",
       "    <tr>\n",
       "      <th>2</th>\n",
       "      <td>8</td>\n",
       "      <td>183</td>\n",
       "      <td>64.0</td>\n",
       "      <td>0</td>\n",
       "      <td>0</td>\n",
       "      <td>23.3</td>\n",
       "      <td>0.672</td>\n",
       "      <td>32</td>\n",
       "      <td>1</td>\n",
       "    </tr>\n",
       "    <tr>\n",
       "      <th>3</th>\n",
       "      <td>1</td>\n",
       "      <td>89</td>\n",
       "      <td>66.0</td>\n",
       "      <td>23</td>\n",
       "      <td>94</td>\n",
       "      <td>28.1</td>\n",
       "      <td>0.167</td>\n",
       "      <td>21</td>\n",
       "      <td>0</td>\n",
       "    </tr>\n",
       "    <tr>\n",
       "      <th>4</th>\n",
       "      <td>0</td>\n",
       "      <td>137</td>\n",
       "      <td>40.0</td>\n",
       "      <td>35</td>\n",
       "      <td>168</td>\n",
       "      <td>43.1</td>\n",
       "      <td>2.288</td>\n",
       "      <td>15</td>\n",
       "      <td>1</td>\n",
       "    </tr>\n",
       "  </tbody>\n",
       "</table>\n",
       "</div>"
      ],
      "text/plain": [
       "   Pregnancies  Glucose  BloodPressure  SkinThickness  Insulin   BMI  \\\n",
       "0            6      148           72.0             35        0  33.6   \n",
       "1            1       85           66.0             29        0  26.6   \n",
       "2            8      183           64.0              0        0  23.3   \n",
       "3            1       89           66.0             23       94  28.1   \n",
       "4            0      137           40.0             35      168  43.1   \n",
       "\n",
       "   DiabetesPedigreeFunction  Age  Outcome  \n",
       "0                     0.627   50        1  \n",
       "1                     0.351   31        0  \n",
       "2                     0.672   32        1  \n",
       "3                     0.167   21        0  \n",
       "4                     2.288   15        1  "
      ]
     },
     "execution_count": 3,
     "metadata": {},
     "output_type": "execute_result"
    }
   ],
   "source": [
    "#1- Read the data file into a pandas data frame and print the first 5 rows\n",
    "df = pd.read_csv('diabetes.csv')\n",
    "df\n",
    "\n",
    "df.head()"
   ]
  },
  {
   "cell_type": "code",
   "execution_count": 4,
   "metadata": {},
   "outputs": [
    {
     "name": "stdout",
     "output_type": "stream",
     "text": [
      "(788, 9)\n"
     ]
    }
   ],
   "source": [
    "#2- Print the number of rows and columns\n",
    "print(pd.read_csv('diabetes.csv').shape)\n",
    "\n",
    "# There are 789 rows and 9 columns."
   ]
  },
  {
   "cell_type": "code",
   "execution_count": 5,
   "metadata": {},
   "outputs": [
    {
     "name": "stdout",
     "output_type": "stream",
     "text": [
      "min     12.000000\n",
      "max     81.000000\n",
      "mean    33.215736\n",
      "std     11.819875\n",
      "Name: Age, dtype: float64\n"
     ]
    }
   ],
   "source": [
    "#3- Calculate the min, max, mean, and std of the ‘age’ column using pandas.\n",
    "avg_age = df['Age'].agg(['min', 'max', 'mean', 'std'])\n",
    "print(avg_age)"
   ]
  },
  {
   "cell_type": "code",
   "execution_count": 6,
   "metadata": {},
   "outputs": [
    {
     "name": "stdout",
     "output_type": "stream",
     "text": [
      "The mode of the age column is 22\n"
     ]
    }
   ],
   "source": [
    "#4- What is the mode of the ‘age’ column? Comment on the data’s modality (i.e., bimodal,\n",
    "#trimodal, etc.).\n",
    "\n",
    "print(\"The mode of the age column is\", df['Age'].mode().values[0])\n",
    "\n",
    "# The data is unimodal as it has a singular reacurring value. "
   ]
  },
  {
   "cell_type": "code",
   "execution_count": 7,
   "metadata": {
    "scrolled": true
   },
   "outputs": [
    {
     "name": "stdout",
     "output_type": "stream",
     "text": [
      "first quartile =  24.0\n",
      "third quartile =  41.0\n"
     ]
    }
   ],
   "source": [
    "#5- Use pandas to calculate the first quartile (Q1) and the third quartile (Q3) of the ‘age’ column.\n",
    "\n",
    "print(\"first quartile = \", df['Age'].quantile(0.25))\n",
    "print(\"third quartile = \", df['Age'].quantile(0.75))"
   ]
  },
  {
   "cell_type": "code",
   "execution_count": 8,
   "metadata": {},
   "outputs": [
    {
     "name": "stdout",
     "output_type": "stream",
     "text": [
      "17.0\n"
     ]
    }
   ],
   "source": [
    "#6- What is the Interquartile Range of the ‘age’ column?\n",
    "# IQR is the third quartile minus the first quartile\n",
    "IQR = df['Age'].quantile(0.75) - df['Age'].quantile(0.25)\n",
    "print(IQR)"
   ]
  },
  {
   "cell_type": "code",
   "execution_count": 9,
   "metadata": {},
   "outputs": [
    {
     "name": "stdout",
     "output_type": "stream",
     "text": [
      "min    12.0\n",
      "max    81.0\n",
      "25%    24.0\n",
      "50%    29.0\n",
      "75%    41.0\n",
      "Name: Age, dtype: float64\n"
     ]
    }
   ],
   "source": [
    "#7- Print the five-number summary of the ‘age’ column.\n",
    "print(df['Age'].describe(percentiles=[0.25, 0.5, 0.75])[['min','max', '25%', '50%', '75%']])"
   ]
  },
  {
   "cell_type": "markdown",
   "metadata": {},
   "source": [
    " Data visualisation"
   ]
  },
  {
   "cell_type": "code",
   "execution_count": 10,
   "metadata": {},
   "outputs": [
    {
     "data": {
      "image/png": "[encoded data removed]",
      "text/plain": [
       "<Figure size 432x288 with 1 Axes>"
      ]
     },
     "metadata": {
      "needs_background": "light"
     },
     "output_type": "display_data"
    }
   ],
   "source": [
    "#1- Show a boxplot of the ‘age’ column.\n",
    "plt.boxplot(df['Age']),\n",
    "plt.title('Age column'),\n",
    "plt.xlabel('Age Group'),\n",
    "plt.ylabel('Years old'),\n",
    "plt.show()"
   ]
  },
  {
   "cell_type": "code",
   "execution_count": 11,
   "metadata": {},
   "outputs": [
    {
     "data": {
      "image/png": "[encoded data removed]",
      "text/plain": [
       "<Figure size 720x432 with 1 Axes>"
      ]
     },
     "metadata": {},
     "output_type": "display_data"
    }
   ],
   "source": [
    "#2- Show a boxplot of the ‘age’ column of the diabetic and no-diabetic groups side by side. The x-\n",
    "#axis’s label should be (diabetic) and ‘yes’ under positive patients and ‘no’ under negative\n",
    "#patients, and the y-axis’s label should be (patient’s age), as follows:\n",
    "\n",
    "# Firstly the ints 1 and 0 representing Yes and No are mapped to the words they represent. \n",
    "# Then a boxplot is created using seaborn.\n",
    "\n",
    "df['Outcome'] = df['Outcome'].map({1: 'yes', 0: 'no'})\n",
    "sns.set(style=\"whitegrid\"), plt.figure(figsize=(10, 6)), sns.boxplot(x='Outcome', y='Age', data=df)\n",
    "\n",
    "# Labels are set according to the sample grah provided. \n",
    "plt.title(\"How does a Patient's Age impact their Diabetic Status\")\n",
    "plt.xlabel('Diabetic'), plt.ylabel(\"Patient's Age\")\n",
    "plt.show()\n",
    "\n"
   ]
  },
  {
   "cell_type": "markdown",
   "metadata": {},
   "source": [
    "3- Based on the boxplot of question 2, analyse the relationship between the patient’s age and being diabetic\n",
    "\n",
    "Based on the boxplot there is a higher probability of contracting diabetes the older a persons age is. Theese boxplots highlight the importance of age in diabetes. There is a dividing line at roughly 35 years of age after which people appear to be more prone to contracting diabetes. Though this is only a contributing factor, middle aged and elderly people are visibly more prone to contracting diabetes.  \n"
   ]
  },
  {
   "cell_type": "code",
   "execution_count": 12,
   "metadata": {},
   "outputs": [
    {
     "data": {
      "image/png": "[encoded data removed]",
      "text/plain": [
       "<Figure size 720x432 with 1 Axes>"
      ]
     },
     "metadata": {},
     "output_type": "display_data"
    }
   ],
   "source": [
    "#4- Show a scatter plot with the patient’s Blood pressure on the x-axis and the patient’s BMI on\n",
    "#the y-axis\n",
    "\n",
    "blood_pressure = df['BloodPressure']\n",
    "bmi = df['BMI']\n",
    "\n",
    "# Scatter plot is created showing the patients Blood pressure and BMI.\n",
    "plt.figure(figsize=(10, 6)), plt.scatter(blood_pressure, bmi, c='green', alpha=0.7)\n",
    "plt.xlabel(\"Blood Pressure\", fontsize=14), plt.ylabel(\"BMI\", fontsize=14), plt.title(\"Scatter Plot of Blood Pressure vs. BMI\", fontsize=14)\n",
    "plt.grid(True)\n",
    "plt.show()"
   ]
  },
  {
   "cell_type": "code",
   "execution_count": 13,
   "metadata": {},
   "outputs": [
    {
     "data": {
      "image/png": "[encoded data removed]",
      "text/plain": [
       "<Figure size 1008x576 with 1 Axes>"
      ]
     },
     "metadata": {},
     "output_type": "display_data"
    }
   ],
   "source": [
    "# Show a scatter plot with the patient’s Blood pressure on the x-axis and the patient’s BMI on\n",
    "#the y-axis, highlighting diabetic patients with different colours. The colouring label should be\n",
    "#‘diabetic’: yes and no. Illustrative example\n",
    "\n",
    "# Scatterplot is created using BMI, BloodPressure and Outcome columns, colours are added. \n",
    "plt.figure(figsize=(14, 8))\n",
    "sns.scatterplot(x='BloodPressure', y='BMI', hue='Outcome', data=df, palette={'no': 'blue', 'yes': 'orange'}, alpha=0.7)\n",
    "\n",
    "# Scatterplot is labeled and a legend is added. \n",
    "plt.title(\"BMI & Blood pressure of non diabetics and diabetics\", fontsize=14)\n",
    "plt.xlabel(\"Blood Pressure\", fontsize=14), plt.ylabel(\"BMI\", fontsize=14)\n",
    "plt.legend(title='Diabetic', labels=['Yes', 'No'], fontsize=14)\n",
    "plt.grid(True)\n",
    "plt.show()"
   ]
  },
  {
   "cell_type": "markdown",
   "metadata": {},
   "source": [
    "6- Based on the scatterplot of question 5, analyse the relationship between BMI/Blood pressure\n",
    "and diabetes.\n",
    "\n",
    "Based on the scatterplot there is a noticeable increase in patients who have diabetes and a bloof pressure over 60. The majority of patients who have diabetes have a blood pressure between 60 and 100. The majority of diabetes patients also have a BMI over 30. That being said there is consiberable number of patients who are not diabetic with BMI's above 30 and blood pressure over 60, so while a patients BMI's and Blood pressure are a factor/potential indicator of diabetes there are clearly other components and factors that have not been mapped on this graph. \n"
   ]
  },
  {
   "cell_type": "code",
   "execution_count": 14,
   "metadata": {},
   "outputs": [
    {
     "name": "stdout",
     "output_type": "stream",
     "text": [
      "Total number of patients with over 400 Insulin = 20\n",
      "Diabetic patients with over 400 insulin  = 12\n",
      "Non-diabetic patients with over 400 insulin = 8\n"
     ]
    }
   ],
   "source": [
    "#Select all patients with Insulin more than 400. How many patients are diabetic/no-diabetic\n",
    "#among those selected?\n",
    "\n",
    "#Get the total number of patients with insulin levels over 400, use the outcome column to match these patients with diabetes. \n",
    "all_patients = df['Insulin'].gt(400)\n",
    "counts = df.loc[all_patients, 'Outcome'].value_counts()\n",
    "print(f\"Total number of patients with over 400 Insulin = {all_patients.sum()}\")\n",
    "print(f\"Diabetic patients with over 400 insulin  = {counts.get('yes', 0)}\")\n",
    "print(f\"Non-diabetic patients with over 400 insulin = {counts.get('no', 0)}\")\n",
    "\n",
    "# Answers are 20, 12 and 8."
   ]
  },
  {
   "cell_type": "code",
   "execution_count": 15,
   "metadata": {},
   "outputs": [
    {
     "name": "stdout",
     "output_type": "stream",
     "text": [
      "Total patients with Insulin over 400 & Glucose over 175 = 6\n",
      "Diabetic patients with insulin over 400 & Glucose over 175 = 5\n",
      "Non-diabetic patients with insulin over 400 & Glucose over 175 = 1\n"
     ]
    }
   ],
   "source": [
    "#2- Select all patients with Insulin greater than 400 and Glucose greater than 175. How many\n",
    "#patients are diabetic/no-diabetic among those selected?\n",
    "\n",
    "twofactors_p = df[(df['Insulin'] > 400) & (df['Glucose'] > 175)]\n",
    "counts = twofactors_p['Outcome'].value_counts()\n",
    "print(f\"Total patients with Insulin over 400 & Glucose over 175 = {len(twofactors_p)}\")\n",
    "print(f\"Diabetic patients with insulin over 400 & Glucose over 175 = {counts.get('yes', 0)}\")\n",
    "print(f\"Non-diabetic patients with insulin over 400 & Glucose over 175 = {counts.get('no', 0)}\")\n",
    "\n"
   ]
  },
  {
   "cell_type": "code",
   "execution_count": 16,
   "metadata": {},
   "outputs": [
    {
     "name": "stdout",
     "output_type": "stream",
     "text": [
      "The average Glucose level for patients who are older then 45 and have had more then 5 pregnancies is: 135.37\n"
     ]
    }
   ],
   "source": [
    "#3- What is the average Glucose level of a patient with more than 5 pregnancies and older than\n",
    "#45?\n",
    "\n",
    "avg_glucose = df[(df['Pregnancies'] > 5) & (df['Age'] > 45)]['Glucose'].mean()\n",
    "print(f\"The average Glucose level for patients who are older then 45 and have had more then 5 pregnancies is: {avg_glucose:.2f}\")\n",
    "\n"
   ]
  },
  {
   "cell_type": "code",
   "execution_count": 17,
   "metadata": {},
   "outputs": [
    {
     "name": "stdout",
     "output_type": "stream",
     "text": [
      "Distinct values in the 'Pregnancies' column: 17\n"
     ]
    }
   ],
   "source": [
    "#4- Count the distinct values in the ‘pregnancies’ column.\n",
    "#Use .nuique to get the distinct values in the column, print the values\n",
    "distinct_v = df['Pregnancies'].nunique()\n",
    "print(\"Distinct values in the 'Pregnancies' column:\", distinct_v)\n"
   ]
  },
  {
   "cell_type": "code",
   "execution_count": 18,
   "metadata": {},
   "outputs": [
    {
     "name": "stdout",
     "output_type": "stream",
     "text": [
      "Pregnancies               Outcome\n",
      "          0  0: 66.07%, 1: 33.93%\n",
      "          1  0: 77.30%, 1: 22.70%\n",
      "          2  0: 82.41%, 1: 17.59%\n",
      "          3  0: 64.47%, 1: 35.53%\n",
      "          4  0: 66.67%, 1: 33.33%\n",
      "          5  0: 63.79%, 1: 36.21%\n",
      "          6  0: 68.00%, 1: 32.00%\n",
      "          7  0: 43.48%, 1: 56.52%\n",
      "          8  0: 45.00%, 1: 55.00%\n",
      "          9  0: 34.48%, 1: 65.52%\n",
      "         10  0: 58.33%, 1: 41.67%\n",
      "         11  0: 36.36%, 1: 63.64%\n",
      "         12  0: 55.56%, 1: 44.44%\n",
      "         13  0: 45.45%, 1: 54.55%\n",
      "         14  0: 0.00%, 1: 100.00%\n",
      "         15  0: 0.00%, 1: 100.00%\n",
      "         17  0: 0.00%, 1: 100.00%\n"
     ]
    }
   ],
   "source": [
    "#Data frame created for outcome and pregnancies. \n",
    "ans = pd.DataFrame(columns=['Pregnancies', 'Outcome'])\n",
    "\n",
    "#Iterate through values and sort in ascending order. \n",
    "for value in sorted(df['Pregnancies'].unique()):\n",
    "    subset = df[df['Pregnancies'] == value]\n",
    "    total_c = len(subset)\n",
    "    diabetic_r = len(subset[subset['Outcome'] == 'yes'])\n",
    "    ndiabetic_r = len(subset[subset['Outcome'] == 'no'])\n",
    "# Get percentage of diabetic and non diabetic people.\n",
    "    ndiabetic_per = (ndiabetic_r / total_c) * 100\n",
    "    diabetic_per = (diabetic_r / total_c) * 100\n",
    "    ans = ans.append({'Pregnancies': value, 'Outcome': f'0: {ndiabetic_per:.2f}%, 1: {diabetic_per:.2f}%'}, ignore_index=True)\n",
    "#Print results as a table with a header but without an index. \n",
    "print(ans.to_string(index=False, header=True))\n"
   ]
  },
  {
   "cell_type": "code",
   "execution_count": 19,
   "metadata": {},
   "outputs": [
    {
     "name": "stdout",
     "output_type": "stream",
     "text": [
      "0      False\n",
      "1      False\n",
      "2      False\n",
      "3      False\n",
      "4      False\n",
      "       ...  \n",
      "783     True\n",
      "784     True\n",
      "785     True\n",
      "786     True\n",
      "787     True\n",
      "Length: 788, dtype: bool\n"
     ]
    }
   ],
   "source": [
    "#Question 2: Data Cleaning I) Duplicated removal\n",
    "#Identify any duplicated records by printing “True” if the row is duplicated and “False” otherwise.\n",
    "duplicates = df.duplicated()\n",
    "print(duplicates)\n"
   ]
  },
  {
   "cell_type": "code",
   "execution_count": 20,
   "metadata": {},
   "outputs": [
    {
     "data": {
      "text/html": [
       "<div>\n",
       "<style scoped>\n",
       "    .dataframe tbody tr th:only-of-type {\n",
       "        vertical-align: middle;\n",
       "    }\n",
       "\n",
       "    .dataframe tbody tr th {\n",
       "        vertical-align: top;\n",
       "    }\n",
       "\n",
       "    .dataframe thead th {\n",
       "        text-align: right;\n",
       "    }\n",
       "</style>\n",
       "<table border=\"1\" class=\"dataframe\">\n",
       "  <thead>\n",
       "    <tr style=\"text-align: right;\">\n",
       "      <th></th>\n",
       "      <th>Pregnancies</th>\n",
       "      <th>Glucose</th>\n",
       "      <th>BloodPressure</th>\n",
       "      <th>SkinThickness</th>\n",
       "      <th>Insulin</th>\n",
       "      <th>BMI</th>\n",
       "      <th>DiabetesPedigreeFunction</th>\n",
       "      <th>Age</th>\n",
       "      <th>Outcome</th>\n",
       "    </tr>\n",
       "  </thead>\n",
       "  <tbody>\n",
       "    <tr>\n",
       "      <th>0</th>\n",
       "      <td>6</td>\n",
       "      <td>148</td>\n",
       "      <td>72.0</td>\n",
       "      <td>35</td>\n",
       "      <td>0</td>\n",
       "      <td>33.6</td>\n",
       "      <td>0.627</td>\n",
       "      <td>50</td>\n",
       "      <td>yes</td>\n",
       "    </tr>\n",
       "    <tr>\n",
       "      <th>1</th>\n",
       "      <td>1</td>\n",
       "      <td>85</td>\n",
       "      <td>66.0</td>\n",
       "      <td>29</td>\n",
       "      <td>0</td>\n",
       "      <td>26.6</td>\n",
       "      <td>0.351</td>\n",
       "      <td>31</td>\n",
       "      <td>no</td>\n",
       "    </tr>\n",
       "    <tr>\n",
       "      <th>2</th>\n",
       "      <td>8</td>\n",
       "      <td>183</td>\n",
       "      <td>64.0</td>\n",
       "      <td>0</td>\n",
       "      <td>0</td>\n",
       "      <td>23.3</td>\n",
       "      <td>0.672</td>\n",
       "      <td>32</td>\n",
       "      <td>yes</td>\n",
       "    </tr>\n",
       "    <tr>\n",
       "      <th>3</th>\n",
       "      <td>1</td>\n",
       "      <td>89</td>\n",
       "      <td>66.0</td>\n",
       "      <td>23</td>\n",
       "      <td>94</td>\n",
       "      <td>28.1</td>\n",
       "      <td>0.167</td>\n",
       "      <td>21</td>\n",
       "      <td>no</td>\n",
       "    </tr>\n",
       "    <tr>\n",
       "      <th>4</th>\n",
       "      <td>0</td>\n",
       "      <td>137</td>\n",
       "      <td>40.0</td>\n",
       "      <td>35</td>\n",
       "      <td>168</td>\n",
       "      <td>43.1</td>\n",
       "      <td>2.288</td>\n",
       "      <td>15</td>\n",
       "      <td>yes</td>\n",
       "    </tr>\n",
       "    <tr>\n",
       "      <th>...</th>\n",
       "      <td>...</td>\n",
       "      <td>...</td>\n",
       "      <td>...</td>\n",
       "      <td>...</td>\n",
       "      <td>...</td>\n",
       "      <td>...</td>\n",
       "      <td>...</td>\n",
       "      <td>...</td>\n",
       "      <td>...</td>\n",
       "    </tr>\n",
       "    <tr>\n",
       "      <th>763</th>\n",
       "      <td>10</td>\n",
       "      <td>101</td>\n",
       "      <td>76.0</td>\n",
       "      <td>48</td>\n",
       "      <td>180</td>\n",
       "      <td>32.9</td>\n",
       "      <td>0.171</td>\n",
       "      <td>63</td>\n",
       "      <td>no</td>\n",
       "    </tr>\n",
       "    <tr>\n",
       "      <th>764</th>\n",
       "      <td>2</td>\n",
       "      <td>122</td>\n",
       "      <td>70.0</td>\n",
       "      <td>27</td>\n",
       "      <td>0</td>\n",
       "      <td>36.8</td>\n",
       "      <td>0.340</td>\n",
       "      <td>27</td>\n",
       "      <td>no</td>\n",
       "    </tr>\n",
       "    <tr>\n",
       "      <th>765</th>\n",
       "      <td>5</td>\n",
       "      <td>121</td>\n",
       "      <td>72.0</td>\n",
       "      <td>23</td>\n",
       "      <td>112</td>\n",
       "      <td>26.2</td>\n",
       "      <td>0.245</td>\n",
       "      <td>30</td>\n",
       "      <td>no</td>\n",
       "    </tr>\n",
       "    <tr>\n",
       "      <th>766</th>\n",
       "      <td>1</td>\n",
       "      <td>126</td>\n",
       "      <td>60.0</td>\n",
       "      <td>0</td>\n",
       "      <td>0</td>\n",
       "      <td>30.1</td>\n",
       "      <td>0.349</td>\n",
       "      <td>47</td>\n",
       "      <td>yes</td>\n",
       "    </tr>\n",
       "    <tr>\n",
       "      <th>767</th>\n",
       "      <td>1</td>\n",
       "      <td>93</td>\n",
       "      <td>70.0</td>\n",
       "      <td>31</td>\n",
       "      <td>0</td>\n",
       "      <td>30.4</td>\n",
       "      <td>0.315</td>\n",
       "      <td>23</td>\n",
       "      <td>no</td>\n",
       "    </tr>\n",
       "  </tbody>\n",
       "</table>\n",
       "<p>768 rows × 9 columns</p>\n",
       "</div>"
      ],
      "text/plain": [
       "     Pregnancies  Glucose  BloodPressure  SkinThickness  Insulin   BMI  \\\n",
       "0              6      148           72.0             35        0  33.6   \n",
       "1              1       85           66.0             29        0  26.6   \n",
       "2              8      183           64.0              0        0  23.3   \n",
       "3              1       89           66.0             23       94  28.1   \n",
       "4              0      137           40.0             35      168  43.1   \n",
       "..           ...      ...            ...            ...      ...   ...   \n",
       "763           10      101           76.0             48      180  32.9   \n",
       "764            2      122           70.0             27        0  36.8   \n",
       "765            5      121           72.0             23      112  26.2   \n",
       "766            1      126           60.0              0        0  30.1   \n",
       "767            1       93           70.0             31        0  30.4   \n",
       "\n",
       "     DiabetesPedigreeFunction  Age Outcome  \n",
       "0                       0.627   50     yes  \n",
       "1                       0.351   31      no  \n",
       "2                       0.672   32     yes  \n",
       "3                       0.167   21      no  \n",
       "4                       2.288   15     yes  \n",
       "..                        ...  ...     ...  \n",
       "763                     0.171   63      no  \n",
       "764                     0.340   27      no  \n",
       "765                     0.245   30      no  \n",
       "766                     0.349   47     yes  \n",
       "767                     0.315   23      no  \n",
       "\n",
       "[768 rows x 9 columns]"
      ]
     },
     "execution_count": 20,
     "metadata": {},
     "output_type": "execute_result"
    }
   ],
   "source": [
    "#2. For all duplicated records, keep one record and remove its duplicates.\n",
    "df = df.drop_duplicates()\n",
    "df"
   ]
  },
  {
   "cell_type": "code",
   "execution_count": 21,
   "metadata": {},
   "outputs": [
    {
     "name": "stdout",
     "output_type": "stream",
     "text": [
      "(768, 9)\n"
     ]
    }
   ],
   "source": [
    "#3. What is the dimension of the data frame after removing the duplicates?\n",
    "print(df.shape)\n"
   ]
  },
  {
   "cell_type": "markdown",
   "metadata": {},
   "source": [
    "#4. How many duplicated rows were there (before removing the duplicates)?\n",
    "\n",
    "There were 20 duplicate rows in the dataframe before removing them."
   ]
  },
  {
   "cell_type": "code",
   "execution_count": 22,
   "metadata": {},
   "outputs": [
    {
     "name": "stdout",
     "output_type": "stream",
     "text": [
      "Missing values from the blood pressure column: 23\n"
     ]
    }
   ],
   "source": [
    "#II) Missing values\n",
    "#1- How many missing values are in the “blood pressure” column?\n",
    "#Get the sum of the null values in the column.\n",
    "missing_blood_pressure = df['BloodPressure'].isnull().sum()\n",
    "print(f\"Missing values from the blood pressure column: {missing_blood_pressure}\")\n"
   ]
  },
  {
   "cell_type": "code",
   "execution_count": 23,
   "metadata": {},
   "outputs": [],
   "source": [
    "#2- Remove the missing records in the “blood pressure” column. Use the clean dataframe\n",
    "#(without missing values in ‘blood pressure’ column) for the rest of the questions Q-II-3 to Q-\n",
    "#II-7\n",
    "\n",
    "clean_df = df.dropna(subset=['BloodPressure'])\n"
   ]
  },
  {
   "cell_type": "code",
   "execution_count": 24,
   "metadata": {},
   "outputs": [],
   "source": [
    "#Q3. Copy the following columns into a separate data frame: 'Pregnancies', 'Glucose',\n",
    "#'BloodPressure', 'SkinThickness', 'Insulin', 'BMI', 'DiabetesPedigreeFunction', 'Age'\n",
    "\n",
    "selected_columns = clean_df[['Pregnancies', 'Glucose', 'BloodPressure', 'SkinThickness', 'Insulin', 'BMI', 'DiabetesPedigreeFunction', 'Age']]\n"
   ]
  },
  {
   "cell_type": "code",
   "execution_count": 25,
   "metadata": {},
   "outputs": [],
   "source": [
    "#On the newly copied data from (3). Use sklearn’s train_test_split function to split the data into\n",
    "#90% training set and 10% testing set\n",
    "\n",
    "# Add in the selected columns and split into a training and testing set. \n",
    "X = selected_columns\n",
    "X_train, X_test = train_test_split(X, test_size=0.10, random_state=42)\n",
    "\n"
   ]
  },
  {
   "cell_type": "code",
   "execution_count": 30,
   "metadata": {
    "scrolled": true
   },
   "outputs": [],
   "source": [
    "#5- Keep a separate copy of the testing set (evaluation copy) for evaluation in the following\n",
    "#questions (6-9). In the original testing set, set all the Glucose to null.\n",
    "\n",
    "# Copy is created for evaluation. All glucose values are set to none with the training set. Stop warnings that occur due to this.\n",
    "eval_copy = X_test.copy(deep=True)\n",
    "with warnings.catch_warnings():\n",
    "    warnings.simplefilter(\"ignore\")\n",
    "    X_test['Glucose'] = None\n",
    "\n"
   ]
  },
  {
   "cell_type": "code",
   "execution_count": 27,
   "metadata": {},
   "outputs": [
    {
     "name": "stdout",
     "output_type": "stream",
     "text": [
      "RMSE for the inputed values of the test set is: 34.09\n"
     ]
    }
   ],
   "source": [
    "#6- Fill in the missing values of the test set based on the mean of the Glucose of the training set\n",
    "#(90%). Calculate the RMSEs for the imputed values of the test set (compared to the evaluation\n",
    "#copy you have saved from (5)).\n",
    "\n",
    "# Get the mean for glucose and replace values in the test set. \n",
    "glucose_mean = X_train['Glucose'].mean()\n",
    "X_test_imputed = X_test.copy()\n",
    "X_test_imputed['Glucose'].fillna(glucose_mean, inplace=True)\n",
    "\n",
    "# Get RMSE for values, print results.\n",
    "RMSE = np.sqrt(mean_squared_error(eval_copy['Glucose'], X_test_imputed['Glucose']))\n",
    "print(f\"RMSE for the inputed values of the test set is: {RMSE:.2f}\")\n"
   ]
  },
  {
   "cell_type": "code",
   "execution_count": 28,
   "metadata": {},
   "outputs": [],
   "source": [
    "#7- Fill in the missing values of the testing set based on the median of the Glucose of the training\n",
    "#set (90%). Calculate the RMSEs for the imputed values of the test set (compared to the\n",
    "#evaluation copy you have saved from (5)).\n",
    "\n",
    "\n"
   ]
  },
  {
   "cell_type": "code",
   "execution_count": 29,
   "metadata": {},
   "outputs": [],
   "source": [
    "#8- Use scikit-learn SimpleImputer with the 'most_frequent' strategy to impute the value of\n",
    "#glucose in the testing set, and calculate RMSE for the imputed values of the test set (compared\n",
    "#to the evaluation copy you have saved from (5)).\n"
   ]
  },
  {
   "cell_type": "code",
   "execution_count": null,
   "metadata": {},
   "outputs": [],
   "source": []
  },
  {
   "cell_type": "code",
   "execution_count": null,
   "metadata": {},
   "outputs": [],
   "source": []
  }
 ],
 "metadata": {
  "kernelspec": {
   "display_name": "Python 3",
   "language": "python",
   "name": "python3"
  },
  "language_info": {
   "codemirror_mode": {
    "name": "ipython",
    "version": 3
   },
   "file_extension": ".py",
   "mimetype": "text/x-python",
   "name": "python",
   "nbconvert_exporter": "python",
   "pygments_lexer": "ipython3",
   "version": "3.8.5"
  }
 },
 "nbformat": 4,
 "nbformat_minor": 4
}
